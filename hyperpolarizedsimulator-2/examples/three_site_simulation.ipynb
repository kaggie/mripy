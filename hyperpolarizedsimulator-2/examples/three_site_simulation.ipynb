```python
import torch
from hyperpolarized_mri.models.three_site import ThreeSiteExchangeModel
from hyperpolarized_mri.simulators.forward_simulator import ForwardSimulator
from hyperpolarized_mri.visualization.plot_signals import plot_signals

# Time points
time = torch.linspace(0, 60, 61)
params = {
    'kAB': 0.06, 'kBA': 0.01, 'kBC': 0.04, 'kCB': 0.02,
    'T1A': 30, 'T1B': 25, 'T1C': 20,
    'M0A': 1.0, 'M0B': 0.0, 'M0C': 0.0
}
model = ThreeSiteExchangeModel()
simulator = ForwardSimulator(model)
signals = simulator.simulate(time, params).detach().numpy()
plot_signals(time, signals, labels=['A', 'B', 'C'], title='3-Site Exchange Simulation')
```